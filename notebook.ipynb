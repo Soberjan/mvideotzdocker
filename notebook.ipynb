{
 "cells": [
  {
   "cell_type": "markdown",
   "id": "fdb69ac4",
   "metadata": {},
   "source": [
    "В этой работе мы будем исследовать, как различные параметры сотрудников некоторой фирмы влияют на количество больничных дней. Для начала импортируем библиотеки:"
   ]
  },
  {
   "cell_type": "code",
   "execution_count": 10,
   "id": "e35d6d38",
   "metadata": {},
   "outputs": [],
   "source": [
    "import pandas as pd\n",
    "import numpy as np\n",
    "import matplotlib.pyplot as plt\n",
    "import seaborn as sns\n",
    "from scipy import stats"
   ]
  },
  {
   "cell_type": "markdown",
   "id": "6ad37998",
   "metadata": {},
   "source": [
    "Прежде чем переходить к проверке интересующих нас гипотез, считаем данные и приведем их к удобному виду."
   ]
  },
  {
   "cell_type": "code",
   "execution_count": 2,
   "id": "de2a9005",
   "metadata": {},
   "outputs": [],
   "source": [
    "workers_raw = pd.read_csv('М.Тех_Данные_к_ТЗ_DS.csv', encoding='pt154', sep=',')"
   ]
  },
  {
   "cell_type": "code",
   "execution_count": 40,
   "id": "20a85527",
   "metadata": {},
   "outputs": [],
   "source": [
    "# из-за того, что данные были предоставлены в странной кодировке,\n",
    "# параметр sep не работает и нам нужно разбить данные вручную.\n",
    "\n",
    "# разобьем полученную таблицу по запятым\n",
    "data = workers_raw['Количество больничных дней,\\\"Возраст\\\",\\\"Пол\\\"'].str.split(',')\n",
    "# объединим полученные списки в один\n",
    "data = np.vstack(data.to_numpy())\n",
    "\n",
    "# создадим датафрейм, с которым будем работать дальше\n",
    "workers =  pd.DataFrame()\n",
    "workers['work_days'] = data[:, 0]\n",
    "workers['age'] = data[:, 1]\n",
    "workers['sex'] = data[:, 2]\n",
    "\n",
    "workers['sex'] = workers['sex'].str.replace('\\\"Ж\\\"', 'f')\n",
    "workers['sex'] = workers['sex'].str.replace('\\\"М\\\"', 'm')\n",
    "\n",
    "# приведем численные параметры к численному типу данных\n",
    "workers['work_days'] = pd.to_numeric(workers['work_days'])\n",
    "workers['age'] = pd.to_numeric(workers['age'])"
   ]
  },
  {
   "cell_type": "code",
   "execution_count": 41,
   "id": "4bb5763a",
   "metadata": {
    "scrolled": true
   },
   "outputs": [
    {
     "data": {
      "text/html": [
       "<div>\n",
       "<style scoped>\n",
       "    .dataframe tbody tr th:only-of-type {\n",
       "        vertical-align: middle;\n",
       "    }\n",
       "\n",
       "    .dataframe tbody tr th {\n",
       "        vertical-align: top;\n",
       "    }\n",
       "\n",
       "    .dataframe thead th {\n",
       "        text-align: right;\n",
       "    }\n",
       "</style>\n",
       "<table border=\"1\" class=\"dataframe\">\n",
       "  <thead>\n",
       "    <tr style=\"text-align: right;\">\n",
       "      <th></th>\n",
       "      <th>work_days</th>\n",
       "      <th>age</th>\n",
       "    </tr>\n",
       "  </thead>\n",
       "  <tbody>\n",
       "    <tr>\n",
       "      <th>count</th>\n",
       "      <td>237.000000</td>\n",
       "      <td>237.000000</td>\n",
       "    </tr>\n",
       "    <tr>\n",
       "      <th>mean</th>\n",
       "      <td>3.257384</td>\n",
       "      <td>40.181435</td>\n",
       "    </tr>\n",
       "    <tr>\n",
       "      <th>std</th>\n",
       "      <td>1.807821</td>\n",
       "      <td>6.875157</td>\n",
       "    </tr>\n",
       "    <tr>\n",
       "      <th>min</th>\n",
       "      <td>0.000000</td>\n",
       "      <td>23.000000</td>\n",
       "    </tr>\n",
       "    <tr>\n",
       "      <th>25%</th>\n",
       "      <td>2.000000</td>\n",
       "      <td>36.000000</td>\n",
       "    </tr>\n",
       "    <tr>\n",
       "      <th>50%</th>\n",
       "      <td>3.000000</td>\n",
       "      <td>41.000000</td>\n",
       "    </tr>\n",
       "    <tr>\n",
       "      <th>75%</th>\n",
       "      <td>4.000000</td>\n",
       "      <td>45.000000</td>\n",
       "    </tr>\n",
       "    <tr>\n",
       "      <th>max</th>\n",
       "      <td>8.000000</td>\n",
       "      <td>60.000000</td>\n",
       "    </tr>\n",
       "  </tbody>\n",
       "</table>\n",
       "</div>"
      ],
      "text/plain": [
       "        work_days         age\n",
       "count  237.000000  237.000000\n",
       "mean     3.257384   40.181435\n",
       "std      1.807821    6.875157\n",
       "min      0.000000   23.000000\n",
       "25%      2.000000   36.000000\n",
       "50%      3.000000   41.000000\n",
       "75%      4.000000   45.000000\n",
       "max      8.000000   60.000000"
      ]
     },
     "execution_count": 41,
     "metadata": {},
     "output_type": "execute_result"
    }
   ],
   "source": [
    "workers.describe()"
   ]
  },
  {
   "cell_type": "markdown",
   "id": "7c7055a0",
   "metadata": {},
   "source": [
    "**Гипотеза 1**: мужчины берут больше двух больничных дней значительно чаще женщин. Для проверки этой гипотезы визуализируем данные и проведем статистические расчеты."
   ]
  },
  {
   "cell_type": "code",
   "execution_count": 147,
   "id": "e1a721d3",
   "metadata": {},
   "outputs": [
    {
     "data": {
      "text/plain": [
       "<matplotlib.legend.Legend at 0x7f2b553ae700>"
      ]
     },
     "execution_count": 147,
     "metadata": {},
     "output_type": "execute_result"
    },
    {
     "data": {
      "image/png": "[encoded data removed]",
      "text/plain": [
       "<Figure size 720x432 with 1 Axes>"
      ]
     },
     "metadata": {
      "needs_background": "light"
     },
     "output_type": "display_data"
    }
   ],
   "source": [
    "x1 = list(workers[workers['sex'] == 'm']['work_days'])\n",
    "x2 = list(workers[workers['sex'] == 'f']['work_days'])\n",
    "\n",
    "plt.figure(figsize=(10,6))\n",
    "\n",
    "names = ['male', 'female']\n",
    "plt.hist([x1, x2], bins = int(37/3), label=names)\n",
    "\n",
    "plt.xlabel(\"Кол-во больничных дней\", fontsize=16)\n",
    "plt.ylabel(\"Кол-во сотрудников\", fontsize=16)\n",
    "plt.title(\"Количество больничных в зависимости от пола\", fontsize=16)\n",
    "\n",
    "plt.legend()"
   ]
  },
  {
   "cell_type": "markdown",
   "id": "e319a109",
   "metadata": {},
   "source": [
    "Может сложиться впечатление, что работники-мужчины чаще берут больничные. Однако по гистограмме видно, что это происходит из-за того, что работников-мужчин больше, чем работников женщин, и что для того, чтобы выяснить, кто чаще берет больничные, нужно провести более детальные исследования."
   ]
  },
  {
   "cell_type": "code",
   "execution_count": 156,
   "id": "1ea5143d",
   "metadata": {},
   "outputs": [
    {
     "data": {
      "text/plain": [
       "<matplotlib.legend.Legend at 0x7f2b54f87ee0>"
      ]
     },
     "execution_count": 156,
     "metadata": {},
     "output_type": "execute_result"
    },
    {
     "data": {
      "image/png": "[encoded data removed]",
      "text/plain": [
       "<Figure size 720x432 with 1 Axes>"
      ]
     },
     "metadata": {
      "needs_background": "light"
     },
     "output_type": "display_data"
    }
   ],
   "source": [
    "x1 = list(workers[workers['sex'] == 'm']['work_days'])\n",
    "x2 = list(workers[workers['sex'] == 'f']['work_days'])\n",
    "\n",
    "plt.figure(figsize=(10,6))\n",
    "\n",
    "sns.kdeplot(x1, label='male')\n",
    "sns.kdeplot(x2, label='female')\n",
    "\n",
    "plt.xlabel(\"Кол-во больничных дней\", fontsize=16)\n",
    "plt.ylabel(\"Плотность кол-ва сотрудников\", fontsize=16)\n",
    "plt.title(\"Количество больничных в зависимости от пола\", fontsize=16)\n",
    "\n",
    "plt.legend()"
   ]
  },
  {
   "cell_type": "markdown",
   "id": "5e447b1f",
   "metadata": {},
   "source": [
    "По графику распределений видим, что количество больничных дней у женщин в среднем оказывается даже больше, чем у мужчин, что противоречит гипотезе 1."
   ]
  },
  {
   "cell_type": "markdown",
   "id": "3723f2b4",
   "metadata": {},
   "source": [
    "Далее мы с помощью t-теста проверим, является ли верной следующая нуль-гипотеза: среднее значение в выборке с мужчинами и в выборке с женщинами одинаковое. Чтобы воспользоваться t-тестом, мы должны выяснить, соответствует ли выборка нормальному распределению и совпадают ли дисперсии у нужных нам подвыборок. Уровень значимости будем считать равным 0.05."
   ]
  },
  {
   "cell_type": "code",
   "execution_count": 14,
   "id": "b7d52be7",
   "metadata": {},
   "outputs": [
    {
     "data": {
      "text/plain": [
       "LeveneResult(statistic=0.45280300885647573, pvalue=0.5016680083552109)"
      ]
     },
     "execution_count": 14,
     "metadata": {},
     "output_type": "execute_result"
    }
   ],
   "source": [
    "stats.levene(x1, x2)"
   ]
  },
  {
   "cell_type": "markdown",
   "id": "28a07a86",
   "metadata": {},
   "source": [
    "С помощью критерия Левене определили, что дисперсии у выборок примерно одинаковые."
   ]
  },
  {
   "cell_type": "markdown",
   "id": "7cd89cc0",
   "metadata": {},
   "source": [
    "Чтобы проверить, соответствуют ли наши выборки нормальному распределению, воспользуемся критереем шапиро. Применим его к списку, в котором хранятся средние значения случайных подвыборок наших выборок, чтобы убедиться, что среднее значение распределено нормально."
   ]
  },
  {
   "cell_type": "code",
   "execution_count": 82,
   "id": "8a0367fc",
   "metadata": {},
   "outputs": [],
   "source": [
    "means_m = []\n",
    "n = 1\n",
    "\n",
    "while n < 500:\n",
    "    n += 1\n",
    "    sample = workers[workers['sex'] == \"m\"].sample(75)['work_days'].mean()\n",
    "    means_m.append(sample)"
   ]
  },
  {
   "cell_type": "code",
   "execution_count": 83,
   "id": "863a177b",
   "metadata": {},
   "outputs": [
    {
     "data": {
      "text/plain": [
       "ShapiroResult(statistic=0.9969392418861389, pvalue=0.4737672507762909)"
      ]
     },
     "execution_count": 83,
     "metadata": {},
     "output_type": "execute_result"
    }
   ],
   "source": [
    "stats.shapiro(means_m)"
   ]
  },
  {
   "cell_type": "code",
   "execution_count": 87,
   "id": "f2738dc6",
   "metadata": {},
   "outputs": [],
   "source": [
    "means_f = []\n",
    "n = 1\n",
    "\n",
    "while n < 500:\n",
    "    n += 1\n",
    "    sample = workers[workers['sex'] == \"f\"].sample(75)['work_days'].mean()\n",
    "    means_f.append(sample)"
   ]
  },
  {
   "cell_type": "code",
   "execution_count": 88,
   "id": "baa87407",
   "metadata": {},
   "outputs": [
    {
     "data": {
      "text/plain": [
       "ShapiroResult(statistic=0.9951432347297668, pvalue=0.1198783665895462)"
      ]
     },
     "execution_count": 88,
     "metadata": {},
     "output_type": "execute_result"
    }
   ],
   "source": [
    "stats.shapiro(means_f)"
   ]
  },
  {
   "cell_type": "markdown",
   "id": "f7fc73fc",
   "metadata": {},
   "source": [
    "По результату теста видим, что выборки соответствуют нормальному распределению."
   ]
  },
  {
   "cell_type": "code",
   "execution_count": 53,
   "id": "2faaece7",
   "metadata": {},
   "outputs": [
    {
     "data": {
      "text/plain": [
       "Ttest_indResult(statistic=-0.7856303350416829, pvalue=0.4328754720595044)"
      ]
     },
     "execution_count": 53,
     "metadata": {},
     "output_type": "execute_result"
    }
   ],
   "source": [
    "stats.ttest_ind(x1, x2, equal_var=True)"
   ]
  },
  {
   "cell_type": "markdown",
   "id": "c5f60ae1",
   "metadata": {},
   "source": [
    "Как видим, t-тест показывает, что среднее значение у обеих выборок не отличается. Это подтверждает промежуточную нуль-гипотезу и опровергает гипотезу 1."
   ]
  },
  {
   "cell_type": "markdown",
   "id": "3b80e71f",
   "metadata": {},
   "source": [
    "**Вывод:** с помощью двух различных способов (графического и аналитического) мы опровергли гипотезу о том, что мужчины в среднем берут на 2 больничных дня больше, значит, она неверна."
   ]
  },
  {
   "cell_type": "markdown",
   "id": "4b255919",
   "metadata": {},
   "source": [
    "**Гипотеза 2**: сотрудники старше 35 лет берут больше двух больничных дней значительно чаще своих более молодых коллег. Для проверки этой гипотезы визуализируем данные и проведем статистические расчеты."
   ]
  },
  {
   "cell_type": "code",
   "execution_count": 152,
   "id": "88ea4c9e",
   "metadata": {},
   "outputs": [
    {
     "data": {
      "text/plain": [
       "<matplotlib.legend.Legend at 0x7f2b55129eb0>"
      ]
     },
     "execution_count": 152,
     "metadata": {},
     "output_type": "execute_result"
    },
    {
     "data": {
      "image/png": "[encoded data removed]",
      "text/plain": [
       "<Figure size 720x432 with 1 Axes>"
      ]
     },
     "metadata": {
      "needs_background": "light"
     },
     "output_type": "display_data"
    }
   ],
   "source": [
    "x1 = list(workers[workers['age']<=35]['work_days'])\n",
    "x2 = list(workers[workers['age']>35]['work_days'])\n",
    "\n",
    "names = ['Возраст <= 35', 'Возраст > 35']\n",
    "\n",
    "plt.figure(figsize=(10,6))\n",
    "\n",
    "plt.hist([x1, x2], label=names)\n",
    "\n",
    "plt.xlabel(\"Кол-во больничных дней\", fontsize=16)\n",
    "plt.ylabel(\"Кол-во сотрудников\", fontsize=16)\n",
    "plt.title(\"Количество больничных в зависимости от возраста\", fontsize=16)\n",
    "\n",
    "plt.legend()"
   ]
  },
  {
   "cell_type": "markdown",
   "id": "1d2a8a3b",
   "metadata": {},
   "source": [
    "По столбчатым диаграммам видим, что молодых работников значительно меньше, чем зрелых."
   ]
  },
  {
   "cell_type": "code",
   "execution_count": 154,
   "id": "2ba15366",
   "metadata": {},
   "outputs": [
    {
     "data": {
      "text/plain": [
       "<matplotlib.legend.Legend at 0x7f2b550493a0>"
      ]
     },
     "execution_count": 154,
     "metadata": {},
     "output_type": "execute_result"
    },
    {
     "data": {
      "image/png": "[encoded data removed]",
      "text/plain": [
       "<Figure size 720x432 with 1 Axes>"
      ]
     },
     "metadata": {
      "needs_background": "light"
     },
     "output_type": "display_data"
    }
   ],
   "source": [
    "x1 = list(workers[workers['age']<=35]['work_days'])\n",
    "x2 = list(workers[workers['age']>35]['work_days'])\n",
    "\n",
    "plt.figure(figsize=(10,6))\n",
    "\n",
    "sns.kdeplot(x1, label='Возраст <= 35')\n",
    "sns.kdeplot(x2, label='Возраст > 35')\n",
    "\n",
    "plt.xlabel(\"Кол-во больничных дней\", fontsize=16)\n",
    "plt.ylabel(\"Плотность кол-ва сотрудников\", fontsize=16)\n",
    "plt.title(\"Количество больничных в зависимости от возраста\", fontsize=16)\n",
    "\n",
    "plt.legend()"
   ]
  },
  {
   "cell_type": "markdown",
   "id": "d97f7d4f",
   "metadata": {},
   "source": [
    "По графику распределений видим, что количество больничных дней в среднем у молодых и зрелых сотрудников примерно одинаково, что противоречит гипотезе 2."
   ]
  },
  {
   "cell_type": "markdown",
   "id": "a4131eb7",
   "metadata": {},
   "source": [
    "Далее мы с помощью t-теста проверим, является ли верной следующая нуль-гипотеза: среднее значение в выборке с молодыми с зрелыми сотрудниками одинаковое. Чтобы воспользоваться t-тестом, мы должны выяснить, соответствует ли выборка нормальному распределению и совпадают ли дисперсии у нужных нам подвыборок. Уровень значимости будем считать равным 0.05."
   ]
  },
  {
   "cell_type": "code",
   "execution_count": 37,
   "id": "c1f6ebc3",
   "metadata": {},
   "outputs": [
    {
     "data": {
      "text/plain": [
       "LeveneResult(statistic=0.3909909669234679, pvalue=0.532385693058304)"
      ]
     },
     "execution_count": 37,
     "metadata": {},
     "output_type": "execute_result"
    }
   ],
   "source": [
    "stats.levene(x1, x2)"
   ]
  },
  {
   "cell_type": "markdown",
   "id": "41e98c44",
   "metadata": {},
   "source": [
    "С помощью критерия Левене определили, что дисперсии у выборок примерно одинаковые."
   ]
  },
  {
   "cell_type": "markdown",
   "id": "43412a50",
   "metadata": {},
   "source": [
    "Чтобы проверить, соответствуют ли наши выборки нормальному распределению, воспользуемся критереем шапиро. Применим его к списку, в котором хранятся средние значения случайных подвыборок наших выборок, чтобы убедиться, что среднее значение распределено нормально."
   ]
  },
  {
   "cell_type": "code",
   "execution_count": 39,
   "id": "7c3fffe4",
   "metadata": {},
   "outputs": [
    {
     "data": {
      "text/plain": [
       "Ttest_indResult(statistic=0.447262667369775, pvalue=0.6550973822138465)"
      ]
     },
     "execution_count": 39,
     "metadata": {},
     "output_type": "execute_result"
    }
   ],
   "source": [
    "stats.ttest_ind(x1, x2, equal_var=True)"
   ]
  },
  {
   "cell_type": "markdown",
   "id": "b70938f2",
   "metadata": {},
   "source": [
    "Чтобы проверить, соответствуют ли наши выборки нормальному распределению, воспользуемся критереем шапиро. Применим его к списку, в котором хранятся средние значения случайных подвыборок наших выборок, чтобы убедиться, что среднее значение распределено нормально."
   ]
  },
  {
   "cell_type": "code",
   "execution_count": 133,
   "id": "583f1563",
   "metadata": {},
   "outputs": [],
   "source": [
    "means_y = []\n",
    "n = 1\n",
    "\n",
    "while n < 500:\n",
    "    n += 1\n",
    "    sample = workers[workers['age'] <= 35].sample(40)['work_days'].mean()\n",
    "    means_y.append(sample)"
   ]
  },
  {
   "cell_type": "code",
   "execution_count": 134,
   "id": "a6b91729",
   "metadata": {},
   "outputs": [
    {
     "data": {
      "text/plain": [
       "ShapiroResult(statistic=0.9960407018661499, pvalue=0.24682429432868958)"
      ]
     },
     "execution_count": 134,
     "metadata": {},
     "output_type": "execute_result"
    }
   ],
   "source": [
    "stats.shapiro(means_y)"
   ]
  },
  {
   "cell_type": "code",
   "execution_count": 135,
   "id": "05f9033a",
   "metadata": {},
   "outputs": [],
   "source": [
    "means_o = []\n",
    "n = 1\n",
    "\n",
    "while n < 500:\n",
    "    n += 1\n",
    "    sample = workers[workers['age'] > 35].sample(75)['work_days'].mean()\n",
    "    means_o.append(sample)"
   ]
  },
  {
   "cell_type": "code",
   "execution_count": 136,
   "id": "df3a2b2a",
   "metadata": {},
   "outputs": [
    {
     "data": {
      "text/plain": [
       "ShapiroResult(statistic=0.9947090744972229, pvalue=0.08357886224985123)"
      ]
     },
     "execution_count": 136,
     "metadata": {},
     "output_type": "execute_result"
    }
   ],
   "source": [
    "stats.shapiro(means_o)"
   ]
  },
  {
   "cell_type": "markdown",
   "id": "11e4b915",
   "metadata": {},
   "source": [
    "По результату теста видим, что выборки соответствуют нормальному распределению."
   ]
  },
  {
   "cell_type": "code",
   "execution_count": 138,
   "id": "3ec0699c",
   "metadata": {},
   "outputs": [
    {
     "data": {
      "text/plain": [
       "Ttest_indResult(statistic=0.447262667369775, pvalue=0.6550973822138465)"
      ]
     },
     "execution_count": 138,
     "metadata": {},
     "output_type": "execute_result"
    }
   ],
   "source": [
    "stats.ttest_ind(x1, x2, equal_var=True)"
   ]
  },
  {
   "cell_type": "markdown",
   "id": "593e1aef",
   "metadata": {},
   "source": [
    "\n",
    "Как видим, t-тест показывает, что среднее значение у обеих выборок не отличается. Это подтверждает промежуточную нуль-гипотезу и опровергает гипотезу 2."
   ]
  },
  {
   "cell_type": "markdown",
   "id": "73f8808f",
   "metadata": {},
   "source": [
    "**Вывод:** с помощью двух различных способов (графического и аналитического) мы опровергли гипотезу о том, что сотрудники старше 35 лет в среднем берут на 2 больничных дня больше, значит, она неверна."
   ]
  },
  {
   "cell_type": "code",
   "execution_count": null,
   "id": "bf495495",
   "metadata": {},
   "outputs": [],
   "source": []
  }
 ],
 "metadata": {
  "kernelspec": {
   "display_name": "Python 3 (ipykernel)",
   "language": "python",
   "name": "python3"
  },
  "language_info": {
   "codemirror_mode": {
    "name": "ipython",
    "version": 3
   },
   "file_extension": ".py",
   "mimetype": "text/x-python",
   "name": "python",
   "nbconvert_exporter": "python",
   "pygments_lexer": "ipython3",
   "version": "3.9.12"
  }
 },
 "nbformat": 4,
 "nbformat_minor": 5
}
